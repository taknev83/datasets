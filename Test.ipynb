{
 "cells": [
  {
   "cell_type": "code",
   "execution_count": 4,
   "metadata": {},
   "outputs": [
    {
     "data": {
      "application/vnd.jupyter.widget-view+json": {
       "model_id": "2691b4daa40c4c33a5e58d3136f6ca7e",
       "version_major": 2,
       "version_minor": 0
      },
      "text/plain": [
       "Label(value='First Number')"
      ]
     },
     "metadata": {},
     "output_type": "display_data"
    },
    {
     "data": {
      "application/vnd.jupyter.widget-view+json": {
       "model_id": "76c3671eb7f24b429e575fead9dbfae3",
       "version_major": 2,
       "version_minor": 0
      },
      "text/plain": [
       "Text(value='')"
      ]
     },
     "metadata": {},
     "output_type": "display_data"
    },
    {
     "data": {
      "application/vnd.jupyter.widget-view+json": {
       "model_id": "4c961f77e4874d9a9b4fca179d0a9f85",
       "version_major": 2,
       "version_minor": 0
      },
      "text/plain": [
       "Label(value='Second Number')"
      ]
     },
     "metadata": {},
     "output_type": "display_data"
    },
    {
     "data": {
      "application/vnd.jupyter.widget-view+json": {
       "model_id": "4c48ae9eb01246e5910e787eae16f726",
       "version_major": 2,
       "version_minor": 0
      },
      "text/plain": [
       "Text(value='')"
      ]
     },
     "metadata": {},
     "output_type": "display_data"
    },
    {
     "data": {
      "application/vnd.jupyter.widget-view+json": {
       "model_id": "c0e115705d504c648eb1caae8f8a9fbe",
       "version_major": 2,
       "version_minor": 0
      },
      "text/plain": [
       "Button(description='add', style=ButtonStyle())"
      ]
     },
     "metadata": {},
     "output_type": "display_data"
    },
    {
     "data": {
      "application/vnd.jupyter.widget-view+json": {
       "model_id": "1cb97a53463e49b4adedae6374265f79",
       "version_major": 2,
       "version_minor": 0
      },
      "text/plain": [
       "Label(value='')"
      ]
     },
     "metadata": {},
     "output_type": "display_data"
    }
   ],
   "source": [
    "from ipywidgets import widgets\n",
    "lbl1 = widgets.Label('First Number')\n",
    "display(lbl1)\n",
    "text1 = widgets.Text()\n",
    "display(text1)\n",
    "\n",
    "lbl2 = widgets.Label('Second Number')\n",
    "display(lbl2)\n",
    "text2 = widgets.Text()\n",
    "display(text2)\n",
    "btn = widgets.Button(description=\"add\")\n",
    "display(btn)\n",
    "lbl3 = widgets.Label()\n",
    "display(lbl3)\n",
    "def add(b):\n",
    "    x=int(text1.value)\n",
    "    y=int(text2.value)\n",
    "    lbl3.value='result= '+str(x+y)\n",
    "btn.on_click(add)"
   ]
  },
  {
   "cell_type": "code",
   "execution_count": 6,
   "metadata": {},
   "outputs": [
    {
     "data": {
      "text/html": [
       "<!DOCTYPE html>\n",
       "<html>\n",
       "<head>\n",
       "<meta name=\"viewport\" content=\"width=device-width, initial-scale=1\">\n",
       "<style>\n",
       "body {font-family: Arial;}\n",
       "\n",
       "/* Style the tab */\n",
       ".tab {\n",
       "  overflow: hidden;\n",
       "  border: 1px solid #ccc;\n",
       "  background-color: #f1f1f1;\n",
       "}\n",
       "\n",
       "/* Style the buttons inside the tab */\n",
       ".tab button {\n",
       "  background-color: inherit;\n",
       "  float: left;\n",
       "  border: none;\n",
       "  outline: none;\n",
       "  cursor: pointer;\n",
       "  padding: 14px 16px;\n",
       "  transition: 0.3s;\n",
       "  font-size: 17px;\n",
       "}\n",
       "\n",
       "/* Change background color of buttons on hover */\n",
       ".tab button:hover {\n",
       "  background-color: #ddd;\n",
       "}\n",
       "\n",
       "/* Create an active/current tablink class */\n",
       ".tab button.active {\n",
       "  background-color: #ccc;\n",
       "}\n",
       "\n",
       "/* Style the tab content */\n",
       ".tabcontent {\n",
       "  display: none;\n",
       "  padding: 6px 12px;\n",
       "  border: 1px solid #ccc;\n",
       "  border-top: none;\n",
       "}\n",
       "</style>\n",
       "</head>\n",
       "<body>\n",
       "\n",
       "<h2>Tabs</h2>\n",
       "<p>Click on the buttons inside the tabbed menu:</p>\n",
       "\n",
       "<div class=\"tab\">\n",
       "  <button class=\"tablinks\" onclick=\"openCity(event, 'London')\">London</button>\n",
       "  <button class=\"tablinks\" onclick=\"openCity(event, 'Paris')\">Paris</button>\n",
       "  <button class=\"tablinks\" onclick=\"openCity(event, 'Tokyo')\">Tokyo</button>\n",
       "</div>\n",
       "\n",
       "<div id=\"London\" class=\"tabcontent\">\n",
       "  <h3>London</h3>\n",
       "  <p>London is the capital city of England.</p>\n",
       "</div>\n",
       "\n",
       "<div id=\"Paris\" class=\"tabcontent\">\n",
       "  <h3>Paris</h3>\n",
       "  <p>Paris is the capital of France.</p> \n",
       "</div>\n",
       "\n",
       "<div id=\"Tokyo\" class=\"tabcontent\">\n",
       "  <h3>Tokyo</h3>\n",
       "  <p>Tokyo is the capital of Japan.</p>\n",
       "</div>\n",
       "\n",
       "<script>\n",
       "function openCity(evt, cityName) {\n",
       "  var i, tabcontent, tablinks;\n",
       "  tabcontent = document.getElementsByClassName(\"tabcontent\");\n",
       "  for (i = 0; i < tabcontent.length; i++) {\n",
       "    tabcontent[i].style.display = \"none\";\n",
       "  }\n",
       "  tablinks = document.getElementsByClassName(\"tablinks\");\n",
       "  for (i = 0; i < tablinks.length; i++) {\n",
       "    tablinks[i].className = tablinks[i].className.replace(\" active\", \"\");\n",
       "  }\n",
       "  document.getElementById(cityName).style.display = \"block\";\n",
       "  evt.currentTarget.className += \" active\";\n",
       "}\n",
       "</script>\n",
       "   \n",
       "</body>\n",
       "</html> \n"
      ],
      "text/plain": [
       "<IPython.core.display.HTML object>"
      ]
     },
     "metadata": {},
     "output_type": "display_data"
    }
   ],
   "source": [
    "%%HTML\n",
    "<!DOCTYPE html>\n",
    "<html>\n",
    "<head>\n",
    "<meta name=\"viewport\" content=\"width=device-width, initial-scale=1\">\n",
    "<style>\n",
    "body {font-family: Arial;}\n",
    "\n",
    "/* Style the tab */\n",
    ".tab {\n",
    "  overflow: hidden;\n",
    "  border: 1px solid #ccc;\n",
    "  background-color: #f1f1f1;\n",
    "}\n",
    "\n",
    "/* Style the buttons inside the tab */\n",
    ".tab button {\n",
    "  background-color: inherit;\n",
    "  float: left;\n",
    "  border: none;\n",
    "  outline: none;\n",
    "  cursor: pointer;\n",
    "  padding: 14px 16px;\n",
    "  transition: 0.3s;\n",
    "  font-size: 17px;\n",
    "}\n",
    "\n",
    "/* Change background color of buttons on hover */\n",
    ".tab button:hover {\n",
    "  background-color: #ddd;\n",
    "}\n",
    "\n",
    "/* Create an active/current tablink class */\n",
    ".tab button.active {\n",
    "  background-color: #ccc;\n",
    "}\n",
    "\n",
    "/* Style the tab content */\n",
    ".tabcontent {\n",
    "  display: none;\n",
    "  padding: 6px 12px;\n",
    "  border: 1px solid #ccc;\n",
    "  border-top: none;\n",
    "}\n",
    "</style>\n",
    "</head>\n",
    "<body>\n",
    "\n",
    "<h2>Tabs</h2>\n",
    "<p>Click on the buttons inside the tabbed menu:</p>\n",
    "\n",
    "<div class=\"tab\">\n",
    "  <button class=\"tablinks\" onclick=\"openCity(event, 'London')\">London</button>\n",
    "  <button class=\"tablinks\" onclick=\"openCity(event, 'Paris')\">Paris</button>\n",
    "  <button class=\"tablinks\" onclick=\"openCity(event, 'Tokyo')\">Tokyo</button>\n",
    "</div>\n",
    "\n",
    "<div id=\"London\" class=\"tabcontent\">\n",
    "  <h3>London</h3>\n",
    "  <p>London is the capital city of England.</p>\n",
    "</div>\n",
    "\n",
    "<div id=\"Paris\" class=\"tabcontent\">\n",
    "  <h3>Paris</h3>\n",
    "  <p>Paris is the capital of France.</p> \n",
    "</div>\n",
    "\n",
    "<div id=\"Tokyo\" class=\"tabcontent\">\n",
    "  <h3>Tokyo</h3>\n",
    "  <p>Tokyo is the capital of Japan.</p>\n",
    "</div>\n",
    "\n",
    "<script>\n",
    "function openCity(evt, cityName) {\n",
    "  var i, tabcontent, tablinks;\n",
    "  tabcontent = document.getElementsByClassName(\"tabcontent\");\n",
    "  for (i = 0; i < tabcontent.length; i++) {\n",
    "    tabcontent[i].style.display = \"none\";\n",
    "  }\n",
    "  tablinks = document.getElementsByClassName(\"tablinks\");\n",
    "  for (i = 0; i < tablinks.length; i++) {\n",
    "    tablinks[i].className = tablinks[i].className.replace(\" active\", \"\");\n",
    "  }\n",
    "  document.getElementById(cityName).style.display = \"block\";\n",
    "  evt.currentTarget.className += \" active\";\n",
    "}\n",
    "</script>\n",
    "   \n",
    "</body>\n",
    "</html> \n"
   ]
  },
  {
   "cell_type": "code",
   "execution_count": null,
   "metadata": {},
   "outputs": [],
   "source": []
  }
 ],
 "metadata": {
  "kernelspec": {
   "display_name": "Python 3",
   "language": "python",
   "name": "python3"
  },
  "language_info": {
   "codemirror_mode": {
    "name": "ipython",
    "version": 3
   },
   "file_extension": ".py",
   "mimetype": "text/x-python",
   "name": "python",
   "nbconvert_exporter": "python",
   "pygments_lexer": "ipython3",
   "version": "3.8.3"
  }
 },
 "nbformat": 4,
 "nbformat_minor": 4
}
