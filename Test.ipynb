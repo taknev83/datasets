{
 "cells": [
  {
   "cell_type": "code",
   "execution_count": 4,
   "metadata": {},
   "outputs": [
    {
     "data": {
      "application/vnd.jupyter.widget-view+json": {
       "model_id": "2691b4daa40c4c33a5e58d3136f6ca7e",
       "version_major": 2,
       "version_minor": 0
      },
      "text/plain": [
       "Label(value='First Number')"
      ]
     },
     "metadata": {},
     "output_type": "display_data"
    },
    {
     "data": {
      "application/vnd.jupyter.widget-view+json": {
       "model_id": "76c3671eb7f24b429e575fead9dbfae3",
       "version_major": 2,
       "version_minor": 0
      },
      "text/plain": [
       "Text(value='')"
      ]
     },
     "metadata": {},
     "output_type": "display_data"
    },
    {
     "data": {
      "application/vnd.jupyter.widget-view+json": {
       "model_id": "4c961f77e4874d9a9b4fca179d0a9f85",
       "version_major": 2,
       "version_minor": 0
      },
      "text/plain": [
       "Label(value='Second Number')"
      ]
     },
     "metadata": {},
     "output_type": "display_data"
    },
    {
     "data": {
      "application/vnd.jupyter.widget-view+json": {
       "model_id": "4c48ae9eb01246e5910e787eae16f726",
       "version_major": 2,
       "version_minor": 0
      },
      "text/plain": [
       "Text(value='')"
      ]
     },
     "metadata": {},
     "output_type": "display_data"
    },
    {
     "data": {
      "application/vnd.jupyter.widget-view+json": {
       "model_id": "c0e115705d504c648eb1caae8f8a9fbe",
       "version_major": 2,
       "version_minor": 0
      },
      "text/plain": [
       "Button(description='add', style=ButtonStyle())"
      ]
     },
     "metadata": {},
     "output_type": "display_data"
    },
    {
     "data": {
      "application/vnd.jupyter.widget-view+json": {
       "model_id": "1cb97a53463e49b4adedae6374265f79",
       "version_major": 2,
       "version_minor": 0
      },
      "text/plain": [
       "Label(value='')"
      ]
     },
     "metadata": {},
     "output_type": "display_data"
    }
   ],
   "source": [
    "from ipywidgets import widgets\n",
    "lbl1 = widgets.Label('First Number')\n",
    "display(lbl1)\n",
    "text1 = widgets.Text()\n",
    "display(text1)\n",
    "\n",
    "lbl2 = widgets.Label('Second Number')\n",
    "display(lbl2)\n",
    "text2 = widgets.Text()\n",
    "display(text2)\n",
    "btn = widgets.Button(description=\"add\")\n",
    "display(btn)\n",
    "lbl3 = widgets.Label()\n",
    "display(lbl3)\n",
    "def add(b):\n",
    "    x=int(text1.value)\n",
    "    y=int(text2.value)\n",
    "    lbl3.value='result= '+str(x+y)\n",
    "btn.on_click(add)"
   ]
  },
  {
   "cell_type": "code",
   "execution_count": null,
   "metadata": {},
   "outputs": [],
   "source": []
  }
 ],
 "metadata": {
  "kernelspec": {
   "display_name": "Python 3",
   "language": "python",
   "name": "python3"
  },
  "language_info": {
   "codemirror_mode": {
    "name": "ipython",
    "version": 3
   },
   "file_extension": ".py",
   "mimetype": "text/x-python",
   "name": "python",
   "nbconvert_exporter": "python",
   "pygments_lexer": "ipython3",
   "version": "3.8.3"
  }
 },
 "nbformat": 4,
 "nbformat_minor": 4
}
