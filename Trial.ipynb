{
  "nbformat": 4,
  "nbformat_minor": 0,
  "metadata": {
    "colab": {
      "name": "Trial",
      "provenance": [],
      "authorship_tag": "ABX9TyMTCLjkk1qlJ21SExfqfeb9",
      "include_colab_link": true
    },
    "kernelspec": {
      "name": "python3",
      "display_name": "Python 3"
    }
  },
  "cells": [
    {
      "cell_type": "markdown",
      "metadata": {
        "id": "view-in-github",
        "colab_type": "text"
      },
      "source": [
        "<a href=\"https://colab.research.google.com/github/taknev83/datasets/blob/master/Trial.ipynb\" target=\"_parent\"><img src=\"https://colab.research.google.com/assets/colab-badge.svg\" alt=\"Open In Colab\"/></a>"
      ]
    },
    {
      "cell_type": "code",
      "metadata": {
        "colab": {
          "base_uri": "https://localhost:8080/"
        },
        "id": "Ko0ZyzRxskiT",
        "outputId": "3705e1d8-0d2a-4a45-856b-e01f4ebf811b"
      },
      "source": [
        "!pip install jupyter-dash -quiet"
      ],
      "execution_count": 1,
      "outputs": [
        {
          "output_type": "stream",
          "text": [
            "\n",
            "Usage:   \n",
            "  pip3 install [options] <requirement specifier> [package-index-options] ...\n",
            "  pip3 install [options] -r <requirements file> [package-index-options] ...\n",
            "  pip3 install [options] [-e] <vcs project url> ...\n",
            "  pip3 install [options] [-e] <local project path> ...\n",
            "  pip3 install [options] <archive url/path> ...\n",
            "\n",
            "no such option: -u\n"
          ],
          "name": "stdout"
        }
      ]
    },
    {
      "cell_type": "code",
      "metadata": {
        "colab": {
          "base_uri": "https://localhost:8080/",
          "height": 671
        },
        "id": "EKA-ZDvSsnL5",
        "outputId": "79342a39-9b53-456b-ac9e-4b077da0ec65"
      },
      "source": [
        "import plotly.express as px\r\n",
        "from jupyter_dash import JupyterDash\r\n",
        "import dash_core_components as dcc\r\n",
        "import dash_html_components as html\r\n",
        "from dash.dependencies import Input, Output\r\n",
        "# Load Data\r\n",
        "df = px.data.tips()\r\n",
        "# Build App\r\n",
        "app = JupyterDash(__name__)\r\n",
        "app.layout = html.Div([\r\n",
        "    html.H1(\"JupyterDash Demo\"),\r\n",
        "    dcc.Graph(id='graph'),\r\n",
        "    html.Label([\r\n",
        "        \"colorscale\",\r\n",
        "        dcc.Dropdown(\r\n",
        "            id='colorscale-dropdown', clearable=False,\r\n",
        "            value='plasma', options=[\r\n",
        "                {'label': c, 'value': c}\r\n",
        "                for c in px.colors.named_colorscales()\r\n",
        "            ])\r\n",
        "    ]),\r\n",
        "])\r\n",
        "# Define callback to update graph\r\n",
        "@app.callback(\r\n",
        "    Output('graph', 'figure'),\r\n",
        "    [Input(\"colorscale-dropdown\", \"value\")]\r\n",
        ")\r\n",
        "def update_figure(colorscale):\r\n",
        "    return px.scatter(\r\n",
        "        df, x=\"total_bill\", y=\"tip\", color=\"size\",\r\n",
        "        color_continuous_scale=colorscale,\r\n",
        "        render_mode=\"webgl\", title=\"Tips\"\r\n",
        "    )\r\n",
        "# Run app and display result inline in the notebook\r\n",
        "app.run_server(mode='inline')\r\n"
      ],
      "execution_count": 2,
      "outputs": [
        {
          "output_type": "display_data",
          "data": {
            "application/javascript": [
              "(async (port, path, width, height, cache, element) => {\n",
              "    if (!google.colab.kernel.accessAllowed && !cache) {\n",
              "      return;\n",
              "    }\n",
              "    element.appendChild(document.createTextNode(''));\n",
              "    const url = await google.colab.kernel.proxyPort(port, {cache});\n",
              "    const iframe = document.createElement('iframe');\n",
              "    iframe.src = url + path;\n",
              "    iframe.height = height;\n",
              "    iframe.width = width;\n",
              "    iframe.style.border = 0;\n",
              "    element.appendChild(iframe);\n",
              "  })(8050, \"/\", \"100%\", 650, false, window.element)"
            ],
            "text/plain": [
              "<IPython.core.display.Javascript object>"
            ]
          },
          "metadata": {
            "tags": []
          }
        }
      ]
    },
    {
      "cell_type": "code",
      "metadata": {
        "id": "mEKzfA6Qsuff"
      },
      "source": [
        ""
      ],
      "execution_count": null,
      "outputs": []
    }
  ]
}